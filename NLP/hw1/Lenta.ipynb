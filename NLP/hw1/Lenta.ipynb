{
  "nbformat": 4,
  "nbformat_minor": 0,
  "metadata": {
    "kernelspec": {
      "display_name": "Python 3",
      "language": "python",
      "name": "python3"
    },
    "language_info": {
      "codemirror_mode": {
        "name": "ipython",
        "version": 3
      },
      "file_extension": ".py",
      "mimetype": "text/x-python",
      "name": "python",
      "nbconvert_exporter": "python",
      "pygments_lexer": "ipython3",
      "version": "3.7.4"
    },
    "colab": {
      "name": "Lenta.ipynb",
      "provenance": [],
      "collapsed_sections": [],
      "toc_visible": true
    }
  },
  "cells": [
    {
      "cell_type": "markdown",
      "metadata": {
        "id": "GnA4CQJNbl-9"
      },
      "source": [
        "## Vitaly Kozhemyak [nickname: Vitaliy Kozhemyak(OM)]"
      ]
    },
    {
      "cell_type": "markdown",
      "metadata": {
        "id": "NhzkoxWFwfjN"
      },
      "source": [
        "## Text preprocessing"
      ]
    },
    {
      "cell_type": "code",
      "metadata": {
        "id": "2POIuki-wpp6",
        "outputId": "a37702e0-2edf-46c6-d1cb-f8752d21cc2d",
        "colab": {
          "base_uri": "https://localhost:8080/",
          "height": 35
        }
      },
      "source": [
        "# from google.colab import drive\n",
        "# drive.mount('/content/drive')"
      ],
      "execution_count": 1,
      "outputs": [
        {
          "output_type": "stream",
          "text": [
            "Mounted at /content/drive\n"
          ],
          "name": "stdout"
        }
      ]
    },
    {
      "cell_type": "code",
      "metadata": {
        "id": "vzelOHtEPdFz",
        "outputId": "50299484-e570-4b77-e469-7bd83ecd18b8",
        "colab": {
          "base_uri": "https://localhost:8080/",
          "height": 235
        }
      },
      "source": [
        "pip install pymorphy2"
      ],
      "execution_count": 3,
      "outputs": [
        {
          "output_type": "stream",
          "text": [
            "Collecting pymorphy2\n",
            "\u001b[?25l  Downloading https://files.pythonhosted.org/packages/07/57/b2ff2fae3376d4f3c697b9886b64a54b476e1a332c67eee9f88e7f1ae8c9/pymorphy2-0.9.1-py3-none-any.whl (55kB)\n",
            "\r\u001b[K     |██████                          | 10kB 17.5MB/s eta 0:00:01\r\u001b[K     |███████████▉                    | 20kB 3.4MB/s eta 0:00:01\r\u001b[K     |█████████████████▊              | 30kB 4.5MB/s eta 0:00:01\r\u001b[K     |███████████████████████▋        | 40kB 4.9MB/s eta 0:00:01\r\u001b[K     |█████████████████████████████▌  | 51kB 4.0MB/s eta 0:00:01\r\u001b[K     |████████████████████████████████| 61kB 3.1MB/s \n",
            "\u001b[?25hRequirement already satisfied: docopt>=0.6 in /usr/local/lib/python3.6/dist-packages (from pymorphy2) (0.6.2)\n",
            "Collecting pymorphy2-dicts-ru<3.0,>=2.4\n",
            "\u001b[?25l  Downloading https://files.pythonhosted.org/packages/3a/79/bea0021eeb7eeefde22ef9e96badf174068a2dd20264b9a378f2be1cdd9e/pymorphy2_dicts_ru-2.4.417127.4579844-py2.py3-none-any.whl (8.2MB)\n",
            "\u001b[K     |████████████████████████████████| 8.2MB 7.6MB/s \n",
            "\u001b[?25hCollecting dawg-python>=0.7.1\n",
            "  Downloading https://files.pythonhosted.org/packages/6a/84/ff1ce2071d4c650ec85745766c0047ccc3b5036f1d03559fd46bb38b5eeb/DAWG_Python-0.7.2-py2.py3-none-any.whl\n",
            "Installing collected packages: pymorphy2-dicts-ru, dawg-python, pymorphy2\n",
            "Successfully installed dawg-python-0.7.2 pymorphy2-0.9.1 pymorphy2-dicts-ru-2.4.417127.4579844\n"
          ],
          "name": "stdout"
        }
      ]
    },
    {
      "cell_type": "code",
      "metadata": {
        "id": "cy4oaNR5wfjQ"
      },
      "source": [
        "import re\n",
        "import nltk\n",
        "import pandas as pd\n",
        "from tqdm import tqdm\n",
        "from multiprocessing import Pool\n",
        "\n",
        "from functools import lru_cache\n",
        "from nltk.corpus import stopwords\n",
        "from pymorphy2 import MorphAnalyzer"
      ],
      "execution_count": 1,
      "outputs": []
    },
    {
      "cell_type": "code",
      "metadata": {
        "id": "Jj4m1VIAwfja",
        "outputId": "9082373b-a6f6-40f8-ba01-10ab734cc99a",
        "colab": {
          "base_uri": "https://localhost:8080/",
          "height": 71
        }
      },
      "source": [
        "nltk.download('stopwords')"
      ],
      "execution_count": 2,
      "outputs": [
        {
          "output_type": "stream",
          "text": [
            "[nltk_data] Downloading package stopwords to /root/nltk_data...\n",
            "[nltk_data]   Package stopwords is already up-to-date!\n"
          ],
          "name": "stdout"
        },
        {
          "output_type": "execute_result",
          "data": {
            "text/plain": [
              "True"
            ]
          },
          "metadata": {
            "tags": []
          },
          "execution_count": 2
        }
      ]
    },
    {
      "cell_type": "code",
      "metadata": {
        "id": "3Lc6pn9Kwfjj"
      },
      "source": [
        "regex = re.compile(\"[А-Яа-яA-z]+\")\n",
        "\n",
        "def words_only(text, regex=regex):\n",
        "    try:\n",
        "        return regex.findall(text.lower())\n",
        "    except:\n",
        "        return []\n",
        "    \n",
        "@lru_cache(maxsize=128)\n",
        "def lemmatize_word(token, pymorphy=MorphAnalyzer()):\n",
        "    return pymorphy.parse(token)[0].normal_form\n",
        "\n",
        "def lemmatize_text(text):\n",
        "    return [lemmatize_word(w) for w in text]\n",
        "\n",
        "\n",
        "mystopwords = stopwords.words('russian') \n",
        "def remove_stopwords(lemmas, stopwords = mystopwords):\n",
        "    return [w for w in lemmas if not w in stopwords and len(w) > 3]\n",
        "\n",
        "def clean_text(text):\n",
        "    tokens = words_only(text)\n",
        "    lemmas = lemmatize_text(tokens)\n",
        "    \n",
        "    return ' '.join(remove_stopwords(lemmas))"
      ],
      "execution_count": 3,
      "outputs": []
    },
    {
      "cell_type": "code",
      "metadata": {
        "id": "Lc2twV0Ty3uC"
      },
      "source": [
        "# !unzip -q lenta-ru-ozon-2020.zip -d ."
      ],
      "execution_count": null,
      "outputs": []
    },
    {
      "cell_type": "code",
      "metadata": {
        "id": "XiP9aySBfQtB"
      },
      "source": [
        "data_path = \"/content/drive/My Drive/Classroom/Natural Language Processing/data/\""
      ],
      "execution_count": 6,
      "outputs": []
    },
    {
      "cell_type": "code",
      "metadata": {
        "id": "TVhPp-ElfUnJ",
        "outputId": "64c6b2bd-8a50-4ae9-faa1-cdee614d76b7",
        "colab": {
          "base_uri": "https://localhost:8080/",
          "height": 35
        }
      },
      "source": [
        "cd /content/drive/My Drive/Classroom/Natural Language Processing/data/"
      ],
      "execution_count": 7,
      "outputs": [
        {
          "output_type": "stream",
          "text": [
            "/content/drive/My Drive/Classroom/Natural Language Processing/data\n"
          ],
          "name": "stdout"
        }
      ]
    },
    {
      "cell_type": "markdown",
      "metadata": {
        "id": "5z6YpW0Owfjq"
      },
      "source": [
        "## Load train-test data"
      ]
    },
    {
      "cell_type": "code",
      "metadata": {
        "id": "liJcbHgXwfjr"
      },
      "source": [
        "train_data = pd.read_csv(\"/content/drive/My Drive/Classroom/Natural Language Processing/data/lenta-ru-train.csv\")\n",
        "test_data = pd.read_csv(\"/content/drive/My Drive/Classroom/Natural Language Processing/data/lenta-ru-test.csv\")"
      ],
      "execution_count": 26,
      "outputs": []
    },
    {
      "cell_type": "markdown",
      "metadata": {
        "id": "2ss7asafwfjy"
      },
      "source": [
        "## Extract lemmas from clean texts"
      ]
    },
    {
      "cell_type": "code",
      "metadata": {
        "id": "mCcWCdYvwfjz"
      },
      "source": [
        "with Pool() as p:\n",
        "    lemmas = list(tqdm(p.imap(clean_text, train_data['text']), total=len(train_data)))\n",
        "    title_lemmas = list(tqdm(p.imap(clean_text, train_data['title']), total=len(train_data)))\n",
        "    \n",
        "train_data['lemmas'] = lemmas\n",
        "train_data['title_lemmas'] = title_lemmas\n",
        "train_data.sample(5)"
      ],
      "execution_count": null,
      "outputs": []
    },
    {
      "cell_type": "code",
      "metadata": {
        "id": "DFh4eS71d-IG",
        "outputId": "8ee33597-4b86-475c-f2dd-75666d052e4b",
        "colab": {
          "base_uri": "https://localhost:8080/",
          "height": 544
        }
      },
      "source": [
        "train_data.head()"
      ],
      "execution_count": null,
      "outputs": [
        {
          "output_type": "execute_result",
          "data": {
            "text/html": [
              "<div>\n",
              "<style scoped>\n",
              "    .dataframe tbody tr th:only-of-type {\n",
              "        vertical-align: middle;\n",
              "    }\n",
              "\n",
              "    .dataframe tbody tr th {\n",
              "        vertical-align: top;\n",
              "    }\n",
              "\n",
              "    .dataframe thead th {\n",
              "        text-align: right;\n",
              "    }\n",
              "</style>\n",
              "<table border=\"1\" class=\"dataframe\">\n",
              "  <thead>\n",
              "    <tr style=\"text-align: right;\">\n",
              "      <th></th>\n",
              "      <th>Unnamed: 0</th>\n",
              "      <th>title</th>\n",
              "      <th>text</th>\n",
              "      <th>topic</th>\n",
              "      <th>topic_label</th>\n",
              "      <th>lemmas</th>\n",
              "      <th>title_lemmas</th>\n",
              "    </tr>\n",
              "  </thead>\n",
              "  <tbody>\n",
              "    <tr>\n",
              "      <th>0</th>\n",
              "      <td>0</td>\n",
              "      <td>Инфляция в январе 2006 года составит 2,6 процента</td>\n",
              "      <td>Глава Росстата Владимир Соколин заявил, что в ...</td>\n",
              "      <td>Экономика</td>\n",
              "      <td>0</td>\n",
              "      <td>глава росстат владимир соколиный заявить январ...</td>\n",
              "      <td>инфляция январь составить процент</td>\n",
              "    </tr>\n",
              "    <tr>\n",
              "      <th>1</th>\n",
              "      <td>1</td>\n",
              "      <td>Никита Михалков учредил День российского кино</td>\n",
              "      <td>У российских кинематографистов  появится новый...</td>\n",
              "      <td>Культура</td>\n",
              "      <td>3</td>\n",
              "      <td>российский кинематографист появиться новый про...</td>\n",
              "      <td>никита михалков учредить день российский кино</td>\n",
              "    </tr>\n",
              "    <tr>\n",
              "      <th>2</th>\n",
              "      <td>2</td>\n",
              "      <td>Марко Матерацци вернется в строй к матчу с ЦСКА</td>\n",
              "      <td>Медицинский штаб миланского \"Интера\" обнародов...</td>\n",
              "      <td>Спорт</td>\n",
              "      <td>1</td>\n",
              "      <td>медицинский штаб миланский интер обнародовать ...</td>\n",
              "      <td>марко матерацци вернуться строй матч цска</td>\n",
              "    </tr>\n",
              "    <tr>\n",
              "      <th>3</th>\n",
              "      <td>3</td>\n",
              "      <td>Определены лауреаты премии \"Книга года\"</td>\n",
              "      <td>Премии \"Книга года\" в 13 номинациях вручены на...</td>\n",
              "      <td>Культура</td>\n",
              "      <td>3</td>\n",
              "      <td>премия книга номинация вручить московский межд...</td>\n",
              "      <td>определить лауреат премия книга</td>\n",
              "    </tr>\n",
              "    <tr>\n",
              "      <th>4</th>\n",
              "      <td>4</td>\n",
              "      <td>Гол Роналду со штрафного спас португальцев от ...</td>\n",
              "      <td>Сборная Португалии сыграла вничью с командой И...</td>\n",
              "      <td>Спорт</td>\n",
              "      <td>1</td>\n",
              "      <td>сборная португалия сыграть вничью команда испа...</td>\n",
              "      <td>роналда штрафной спасти португалец поражение м...</td>\n",
              "    </tr>\n",
              "  </tbody>\n",
              "</table>\n",
              "</div>"
            ],
            "text/plain": [
              "   Unnamed: 0  ...                                       title_lemmas\n",
              "0           0  ...                  инфляция январь составить процент\n",
              "1           1  ...      никита михалков учредить день российский кино\n",
              "2           2  ...          марко матерацци вернуться строй матч цска\n",
              "3           3  ...                    определить лауреат премия книга\n",
              "4           4  ...  роналда штрафной спасти португалец поражение м...\n",
              "\n",
              "[5 rows x 7 columns]"
            ]
          },
          "metadata": {
            "tags": []
          },
          "execution_count": 8
        }
      ]
    },
    {
      "cell_type": "code",
      "metadata": {
        "id": "BVve6NFdzxSD"
      },
      "source": [
        "train_data.to_csv(\"/content/drive/My Drive/Classroom/Natural Language Processing/data/good_train_data.csv\")"
      ],
      "execution_count": null,
      "outputs": []
    },
    {
      "cell_type": "code",
      "metadata": {
        "id": "GRpbqScvwfj6",
        "outputId": "4c2844a8-604f-4562-e29a-611f113974e3",
        "colab": {
          "base_uri": "https://localhost:8080/",
          "height": 307
        }
      },
      "source": [
        "with Pool() as p:\n",
        "    lemmas = list(tqdm(p.imap(clean_text, test_data['text']), total=len(test_data)))\n",
        "    \n",
        "test_data['lemmas'] = lemmas\n",
        "test_data.sample(5)"
      ],
      "execution_count": null,
      "outputs": [
        {
          "output_type": "stream",
          "text": [
            "100%|██████████| 51660/51660 [15:34<00:00, 55.31it/s]\n"
          ],
          "name": "stderr"
        },
        {
          "output_type": "execute_result",
          "data": {
            "text/html": [
              "<div>\n",
              "<style scoped>\n",
              "    .dataframe tbody tr th:only-of-type {\n",
              "        vertical-align: middle;\n",
              "    }\n",
              "\n",
              "    .dataframe tbody tr th {\n",
              "        vertical-align: top;\n",
              "    }\n",
              "\n",
              "    .dataframe thead th {\n",
              "        text-align: right;\n",
              "    }\n",
              "</style>\n",
              "<table border=\"1\" class=\"dataframe\">\n",
              "  <thead>\n",
              "    <tr style=\"text-align: right;\">\n",
              "      <th></th>\n",
              "      <th>title</th>\n",
              "      <th>text</th>\n",
              "      <th>lemmas</th>\n",
              "    </tr>\n",
              "  </thead>\n",
              "  <tbody>\n",
              "    <tr>\n",
              "      <th>37357</th>\n",
              "      <td>Глава Крыма рассказал о превысивших лучшие вре...</td>\n",
              "      <td>Крым уже вышел на показатели, превышающие все ...</td>\n",
              "      <td>крым выйти показатель превышать хороший состав...</td>\n",
              "    </tr>\n",
              "    <tr>\n",
              "      <th>43753</th>\n",
              "      <td>Ивана Дыховичного похоронят на Новодевичьем кл...</td>\n",
              "      <td>Актер и режиссер Иван Дыховичный, скончавшийся...</td>\n",
              "      <td>актёр режиссёр иван дыховичный скончаться тяжё...</td>\n",
              "    </tr>\n",
              "    <tr>\n",
              "      <th>40978</th>\n",
              "      <td>Михаэль Баллак пропустит матч с \"Барселоной\"</td>\n",
              "      <td>Бывший капитан сборной Германии по футболу Мих...</td>\n",
              "      <td>бывший капитан сборная германия футбол михаэль...</td>\n",
              "    </tr>\n",
              "    <tr>\n",
              "      <th>46790</th>\n",
              "      <td>Запершего судей в раздевалке президента «Трабз...</td>\n",
              "      <td>Федерация футбола Турции дисквалифицировала пр...</td>\n",
              "      <td>федерация футбол турция дисквалифицировать пре...</td>\n",
              "    </tr>\n",
              "    <tr>\n",
              "      <th>44068</th>\n",
              "      <td>СМИ узнали подробности обучения в секретном «у...</td>\n",
              "      <td>Тренинговая программа для сотрудников Apple, б...</td>\n",
              "      <td>тренинговый программа сотрудник apple известны...</td>\n",
              "    </tr>\n",
              "  </tbody>\n",
              "</table>\n",
              "</div>"
            ],
            "text/plain": [
              "                                                   title  ...                                             lemmas\n",
              "37357  Глава Крыма рассказал о превысивших лучшие вре...  ...  крым выйти показатель превышать хороший состав...\n",
              "43753  Ивана Дыховичного похоронят на Новодевичьем кл...  ...  актёр режиссёр иван дыховичный скончаться тяжё...\n",
              "40978       Михаэль Баллак пропустит матч с \"Барселоной\"  ...  бывший капитан сборная германия футбол михаэль...\n",
              "46790  Запершего судей в раздевалке президента «Трабз...  ...  федерация футбол турция дисквалифицировать пре...\n",
              "44068  СМИ узнали подробности обучения в секретном «у...  ...  тренинговый программа сотрудник apple известны...\n",
              "\n",
              "[5 rows x 3 columns]"
            ]
          },
          "metadata": {
            "tags": []
          },
          "execution_count": 12
        }
      ]
    },
    {
      "cell_type": "code",
      "metadata": {
        "id": "pPJG7Vkx4uvv"
      },
      "source": [
        "test_data.to_csv(\"/content/drive/My Drive/Classroom/Natural Language Processing/data/good_test_data.csv\")"
      ],
      "execution_count": null,
      "outputs": []
    },
    {
      "cell_type": "code",
      "metadata": {
        "id": "FSIN-wKFSsL7"
      },
      "source": [
        "train_data = pd.read_csv(\"/content/drive/My Drive/Classroom/Natural Language Processing/data/good_train_data.csv\")\n",
        "test_data = pd.read_csv(\"/content/drive/My Drive/Classroom/Natural Language Processing/data/good_test_data.csv\")"
      ],
      "execution_count": 4,
      "outputs": []
    },
    {
      "cell_type": "code",
      "metadata": {
        "id": "j3O5Fpb-UHJB"
      },
      "source": [
        "train_data.dropna(inplace=True)\n",
        "test_data = test_data.fillna(test_data.lemmas[0])"
      ],
      "execution_count": 5,
      "outputs": []
    },
    {
      "cell_type": "markdown",
      "metadata": {
        "id": "2rQjQYSfXlXp"
      },
      "source": [
        "# Fasttext classification"
      ]
    },
    {
      "cell_type": "code",
      "metadata": {
        "id": "OWnEteIQQNkW"
      },
      "source": [
        "with open('clean_text.txt', 'w') as f:\n",
        "    for s, label, title in zip(train_data[\"lemmas\"], \n",
        "                                train_data[\"topic_label\"],\n",
        "                                train_data[\"title_lemmas\"]):\n",
        "        f.write(f\"__label__{label} \" + s)\n",
        "        f.write('\\n')\n",
        "        f.write(f\"__label__{label} \" + title)\n",
        "        f.write('\\n')"
      ],
      "execution_count": 9,
      "outputs": []
    },
    {
      "cell_type": "code",
      "metadata": {
        "id": "RnentgjrmaPy"
      },
      "source": [
        "import fasttext\n",
        "\n",
        "model = fasttext.train_supervised(data_path + \"clean_text.txt\")"
      ],
      "execution_count": null,
      "outputs": []
    },
    {
      "cell_type": "code",
      "metadata": {
        "id": "-X0BssF9T2Mf"
      },
      "source": [
        "answer = []\n",
        "\n",
        "for s in test_data[\"lemmas\"]:\n",
        "    answer.append(int(model.predict(s)[0][0][-1]))"
      ],
      "execution_count": 17,
      "outputs": []
    },
    {
      "cell_type": "code",
      "metadata": {
        "id": "DU6lq-gIXx_J"
      },
      "source": [
        "res_df = pd.DataFrame()\n",
        "res_df[\"id\"] = test_data.index\n",
        "res_df['category'] = answer\n",
        "res_df[['id','category']].to_csv('dummy_submission.csv', index=False)"
      ],
      "execution_count": 18,
      "outputs": []
    },
    {
      "cell_type": "markdown",
      "metadata": {
        "id": "j421MzLvelvl"
      },
      "source": [
        "# Embeddingns"
      ]
    },
    {
      "cell_type": "code",
      "metadata": {
        "id": "tfTgbPQDm66u"
      },
      "source": [
        "with open('clean_text_without_labels.txt', 'w') as f:\n",
        "    for s, title in zip(train_data[\"lemmas\"],\n",
        "                               train_data[\"title_lemmas\"]):\n",
        "        f.write(s)\n",
        "        f.write('\\n')\n",
        "        f.write(title)\n",
        "        f.write('\\n')"
      ],
      "execution_count": 9,
      "outputs": []
    },
    {
      "cell_type": "code",
      "metadata": {
        "id": "uayy718BTuNl"
      },
      "source": [
        "import fasttext\n",
        "\n",
        "model = fasttext.train_unsupervised(data_path + \"clean_text_without_labels.txt\", model='cbow')"
      ],
      "execution_count": 10,
      "outputs": []
    },
    {
      "cell_type": "code",
      "metadata": {
        "id": "kF7ug-_N1V_i"
      },
      "source": [
        "model.save_model(\"model_fasttext.bin\")"
      ],
      "execution_count": 12,
      "outputs": []
    },
    {
      "cell_type": "code",
      "metadata": {
        "id": "gcqXAs2KmSGF",
        "outputId": "3e272de6-8019-477e-fa23-d96d9cb26573",
        "colab": {
          "base_uri": "https://localhost:8080/",
          "height": 35
        }
      },
      "source": [
        "import numpy as np\n",
        "\n",
        "def mean_embedding(text):\n",
        "    tmp = np.zeros(100)\n",
        "    cnt = 0\n",
        "\n",
        "    w = text.split(\" \")\n",
        "    for word in model.words:\n",
        "        if word in w:\n",
        "            tmp += model[word]\n",
        "            cnt += 1\n",
        "    return tmp / cnt\n",
        "\n",
        "\n",
        "with Pool() as p:\n",
        "    arr = list(tqdm(p.imap(mean_embedding, test_data['lemmas']), total=test_data.shape[0]))"
      ],
      "execution_count": 18,
      "outputs": [
        {
          "output_type": "stream",
          "text": [
            "100%|██████████| 51660/51660 [1:38:32<00:00,  8.74it/s]\n"
          ],
          "name": "stderr"
        }
      ]
    },
    {
      "cell_type": "code",
      "metadata": {
        "id": "8shjnoTYP4_z"
      },
      "source": [
        "W_fast = np.zeros((test_data.shape[0], 100))\n",
        "for i in range(test_data.shape[0]):\n",
        "    W_fast[i, :] = arr[i]\n",
        "np.save(\"/content/drive/My Drive/Classroom/Natural Language Processing/data/W_fast.npy\", W_fast)"
      ],
      "execution_count": 19,
      "outputs": []
    },
    {
      "cell_type": "code",
      "metadata": {
        "id": "0pmEArYjRyGz",
        "outputId": "1243a964-a674-4920-f9c4-301462fa9b94",
        "colab": {
          "base_uri": "https://localhost:8080/",
          "height": 35
        }
      },
      "source": [
        "n = 10000\n",
        "with Pool() as p:\n",
        "    arr = list(tqdm(p.imap(mean_embedding, train_data['lemmas'][:n]), total=n))"
      ],
      "execution_count": 26,
      "outputs": [
        {
          "output_type": "stream",
          "text": [
            "100%|██████████| 10000/10000 [19:04<00:00,  8.74it/s]\n"
          ],
          "name": "stderr"
        }
      ]
    },
    {
      "cell_type": "code",
      "metadata": {
        "id": "Gg_FofLjSSht"
      },
      "source": [
        "W = np.zeros((n, 100))\n",
        "for i in range(n):\n",
        "    W[i, :] = arr[i]\n",
        "np.save(\"/content/drive/My Drive/Classroom/Natural Language Processing/data/W.npy\", W)"
      ],
      "execution_count": 27,
      "outputs": []
    },
    {
      "cell_type": "code",
      "metadata": {
        "id": "KKgDixC5SBIq"
      },
      "source": [
        "from sklearn.linear_model import LogisticRegression \n",
        "\n",
        "clf = LogisticRegression(random_state=42, max_iter=1000)\n",
        "clf.fit(W, train_data[\"topic_label\"][:n])\n",
        "pred = clf.predict(W_fast)"
      ],
      "execution_count": 28,
      "outputs": []
    },
    {
      "cell_type": "code",
      "metadata": {
        "id": "qiUMt3azQPLZ"
      },
      "source": [
        "res_df = pd.DataFrame()\n",
        "res_df[\"id\"] = test_data.index\n",
        "res_df['category'] = pred\n",
        "res_df[['id','category']].to_csv('dummy_submission.csv', index=False)"
      ],
      "execution_count": 29,
      "outputs": []
    },
    {
      "cell_type": "markdown",
      "metadata": {
        "id": "Taw_AFZ69J3k"
      },
      "source": [
        "# Tf-Idf model"
      ]
    },
    {
      "cell_type": "code",
      "metadata": {
        "id": "l1JyRL8iwfkJ"
      },
      "source": [
        "from sklearn.linear_model import LogisticRegression \n",
        "from sklearn.feature_extraction.text import TfidfVectorizer\n",
        "from nltk import ngrams"
      ],
      "execution_count": null,
      "outputs": []
    },
    {
      "cell_type": "code",
      "metadata": {
        "id": "j3FSKi-pwfkQ"
      },
      "source": [
        "x_train, x_test, y_train, y_test = train_test_split(train_data[[\"lemmas\", \"title_lemmas\"]], train_data.topic_label)"
      ],
      "execution_count": null,
      "outputs": []
    },
    {
      "cell_type": "code",
      "metadata": {
        "id": "wSVuSZk4wfkX"
      },
      "source": [
        "vec = TfidfVectorizer(ngram_range=(1, 1))\n",
        "bow = vec.fit_transform(train_data[\"lemmas\"]) "
      ],
      "execution_count": null,
      "outputs": []
    },
    {
      "cell_type": "code",
      "metadata": {
        "id": "lTQGQeFSwfkd",
        "outputId": "e235bb1f-0ff4-4bca-fc4f-319ccbb90719",
        "colab": {
          "base_uri": "https://localhost:8080/",
          "height": 107
        }
      },
      "source": [
        "clf = LogisticRegression(random_state=42, max_iter=1000)\n",
        "clf.fit(bow, train_data[\"topic_label\"])"
      ],
      "execution_count": null,
      "outputs": [
        {
          "output_type": "execute_result",
          "data": {
            "text/plain": [
              "LogisticRegression(C=1.0, class_weight=None, dual=False, fit_intercept=True,\n",
              "                   intercept_scaling=1, l1_ratio=None, max_iter=1000,\n",
              "                   multi_class='auto', n_jobs=None, penalty='l2',\n",
              "                   random_state=42, solver='lbfgs', tol=0.0001, verbose=0,\n",
              "                   warm_start=False)"
            ]
          },
          "metadata": {
            "tags": []
          },
          "execution_count": 23
        }
      ]
    },
    {
      "cell_type": "code",
      "metadata": {
        "id": "iQJAM1qvN8uK"
      },
      "source": [
        "test_data = test_data.fillna(test_data.lemmas[0])"
      ],
      "execution_count": null,
      "outputs": []
    },
    {
      "cell_type": "code",
      "metadata": {
        "id": "XX2Gleaawfkk"
      },
      "source": [
        "pred = clf.predict(vec.transform(test_data[\"lemmas\"]))"
      ],
      "execution_count": null,
      "outputs": []
    },
    {
      "cell_type": "code",
      "metadata": {
        "id": "oPVNAr50wfkq",
        "outputId": "a779e66a-791e-4271-c3b3-d6ce89bba59e"
      },
      "source": [
        "accuracy_score(y_test, pred)"
      ],
      "execution_count": null,
      "outputs": [
        {
          "output_type": "execute_result",
          "data": {
            "text/plain": [
              "0.916"
            ]
          },
          "metadata": {
            "tags": []
          },
          "execution_count": 114
        }
      ]
    },
    {
      "cell_type": "code",
      "metadata": {
        "id": "KRrn2hnjOzbs",
        "outputId": "4371f231-c5c9-452e-f5d2-005e5cd38872",
        "colab": {
          "base_uri": "https://localhost:8080/",
          "height": 35
        }
      },
      "source": [
        "cd /content/drive/My Drive/Classroom/Natural Language Processing/data"
      ],
      "execution_count": null,
      "outputs": [
        {
          "output_type": "stream",
          "text": [
            "/content/drive/My Drive/Classroom/Natural Language Processing/data\n"
          ],
          "name": "stdout"
        }
      ]
    },
    {
      "cell_type": "code",
      "metadata": {
        "id": "nrx3zyHZwflb"
      },
      "source": [
        "pred = clf.predict(vec.transform(test_data.lemmas))"
      ],
      "execution_count": null,
      "outputs": []
    },
    {
      "cell_type": "code",
      "metadata": {
        "id": "7ObIQIDIwflh"
      },
      "source": [
        "res_df = pd.DataFrame()\n",
        "res_df[\"id\"] = test_data.index\n",
        "res_df['category'] = pred\n",
        "res_df[['id','category']].to_csv('dummy_submission.csv', index=False)"
      ],
      "execution_count": null,
      "outputs": []
    }
  ]
}