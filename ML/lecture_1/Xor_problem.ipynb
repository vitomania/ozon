{
 "cells": [
  {
   "cell_type": "code",
   "execution_count": 1,
   "metadata": {
    "colab": {},
    "colab_type": "code",
    "id": "U8T4uN8B6raH"
   },
   "outputs": [],
   "source": [
    "import numpy as np"
   ]
  },
  {
   "cell_type": "markdown",
   "metadata": {
    "colab_type": "text",
    "id": "nFP5qmR76raN"
   },
   "source": [
    "# Функии логики\n",
    "\n",
    "На примере взаимодействия отдельных нейронов с пороговой функцией активации разберемся, как нейронные сети аппроксимируют простейшие булевы функцие, такие как **equal, not, and, or, xor, nor**"
   ]
  },
  {
   "cell_type": "markdown",
   "metadata": {
    "colab_type": "text",
    "id": "len1o9hp6raO"
   },
   "source": [
    "## Пороговая функция\n",
    "\n",
    "$$\n",
    "f(x_i) = \\begin{cases} 0,\\; x_i < 0; \\\\ 1, else.\\end{cases}\n",
    "$$"
   ]
  },
  {
   "cell_type": "markdown",
   "metadata": {
    "colab_type": "text",
    "id": "dg9CDB83QlNG"
   },
   "source": [
    "Нейрон:\n",
    "$$\n",
    "y = f(W\\mathbf{x} + b)\n",
    "$$"
   ]
  },
  {
   "cell_type": "markdown",
   "metadata": {
    "colab_type": "text",
    "id": "ZzdVTVjrQzee"
   },
   "source": [
    "Реализуем пороговую функцию и нейрон (:"
   ]
  },
  {
   "cell_type": "code",
   "execution_count": 2,
   "metadata": {
    "colab": {},
    "colab_type": "code",
    "id": "qQldpQnS6raP"
   },
   "outputs": [],
   "source": [
    "class HeavisideStepFunction:\n",
    "    def __call__(self, x):\n",
    "        \"\"\"\n",
    "        Heaviside step function.\n",
    "        Takes a scalar and returns the activation.\n",
    "        \"\"\"\n",
    "        if x < 0:\n",
    "            return 0\n",
    "        else:\n",
    "            return 1"
   ]
  },
  {
   "cell_type": "code",
   "execution_count": 3,
   "metadata": {
    "colab": {},
    "colab_type": "code",
    "id": "FqU6s6Mn6raU"
   },
   "outputs": [],
   "source": [
    "class SimpleNeuron:\n",
    "    def __init__(self, n_in=2, activation=True):\n",
    "        self.weights = np.zeros(n_in)\n",
    "        self.bias = 0\n",
    "        if activation:\n",
    "            self.activation = HeavisideStepFunction()\n",
    "        else:\n",
    "            self.activation = None\n",
    "        \n",
    "    def set_weights(self, w, b):\n",
    "        if len(self.weights) == 1:\n",
    "            w = w * np.ones(1)\n",
    "        self.weights = w\n",
    "        self.bias = b\n",
    "        \n",
    "    def __call__(self, x):\n",
    "        lin_comb = self.weights @ (x * np.ones(len(self.weights)))\n",
    "        return self.activation(lin_comb + self.bias)\n",
    "        "
   ]
  },
  {
   "cell_type": "markdown",
   "metadata": {
    "colab_type": "text",
    "id": "eTQ6GIKvROLw"
   },
   "source": [
    "Теперь наша задача состоит в том, чтобы задать такие параметры нейрона, чтобы его выходы соответствовали таблице истинности данной функции логики. \n",
    "\n",
    "Ниже, в качестве примера, приведена функция тождества, которая не меняет аргументы булевой функции. "
   ]
  },
  {
   "cell_type": "markdown",
   "metadata": {
    "colab_type": "text",
    "id": "rMrecyNv6raY"
   },
   "source": [
    "### Equal "
   ]
  },
  {
   "cell_type": "code",
   "execution_count": 4,
   "metadata": {
    "colab": {},
    "colab_type": "code",
    "id": "93pvsUaU6raZ"
   },
   "outputs": [],
   "source": [
    "neuron = SimpleNeuron(n_in=1)"
   ]
  },
  {
   "cell_type": "code",
   "execution_count": 5,
   "metadata": {
    "colab": {},
    "colab_type": "code",
    "id": "t0knAr-_6rae"
   },
   "outputs": [],
   "source": [
    "neuron.set_weights(1, -0.5)"
   ]
  },
  {
   "cell_type": "code",
   "execution_count": 6,
   "metadata": {
    "colab": {},
    "colab_type": "code",
    "id": "QL5Gr9kg6raj"
   },
   "outputs": [],
   "source": [
    "assert neuron(1.) == 1\n",
    "assert neuron(0.) == 0"
   ]
  },
  {
   "cell_type": "markdown",
   "metadata": {
    "colab_type": "text",
    "id": "3L6k_TTtRzuB"
   },
   "source": [
    "А дальше сами :) "
   ]
  },
  {
   "cell_type": "markdown",
   "metadata": {
    "colab_type": "text",
    "id": "G8HxWoz46ran"
   },
   "source": [
    "### Not"
   ]
  },
  {
   "cell_type": "code",
   "execution_count": 7,
   "metadata": {
    "colab": {},
    "colab_type": "code",
    "id": "Xbih4qSK6rao"
   },
   "outputs": [],
   "source": [
    "neuron = SimpleNeuron(n_in=1)"
   ]
  },
  {
   "cell_type": "code",
   "execution_count": 8,
   "metadata": {
    "colab": {},
    "colab_type": "code",
    "id": "5KjOX8XZ6rat"
   },
   "outputs": [],
   "source": [
    "neuron.set_weights(-1, 0.5)"
   ]
  },
  {
   "cell_type": "code",
   "execution_count": 9,
   "metadata": {
    "colab": {},
    "colab_type": "code",
    "id": "0oKlFQtk6raw"
   },
   "outputs": [],
   "source": [
    "assert neuron(1.) == 0\n",
    "assert neuron(0.) == 1"
   ]
  },
  {
   "cell_type": "markdown",
   "metadata": {
    "colab_type": "text",
    "id": "l5WhhjH16ra0"
   },
   "source": [
    "### Or"
   ]
  },
  {
   "cell_type": "code",
   "execution_count": 10,
   "metadata": {
    "colab": {},
    "colab_type": "code",
    "id": "wxOMfg6S6ra1"
   },
   "outputs": [],
   "source": [
    "neuron = SimpleNeuron(n_in=2)"
   ]
  },
  {
   "cell_type": "code",
   "execution_count": 11,
   "metadata": {
    "colab": {},
    "colab_type": "code",
    "id": "OeY5_0hk6ra5"
   },
   "outputs": [],
   "source": [
    "neuron.set_weights(np.array([1, 1]), -0.5)"
   ]
  },
  {
   "cell_type": "code",
   "execution_count": 12,
   "metadata": {
    "colab": {},
    "colab_type": "code",
    "id": "XDGz0rkM6ra9"
   },
   "outputs": [],
   "source": [
    "assert neuron(np.array([0, 0])) == 0\n",
    "assert neuron(np.array([0, 1])) == 1\n",
    "assert neuron(np.array([1, 0])) == 1\n",
    "assert neuron(np.array([1, 1])) == 1"
   ]
  },
  {
   "cell_type": "markdown",
   "metadata": {
    "colab_type": "text",
    "id": "IBAiCrl46rbA"
   },
   "source": [
    "### And"
   ]
  },
  {
   "cell_type": "code",
   "execution_count": 13,
   "metadata": {
    "colab": {},
    "colab_type": "code",
    "id": "V1XpBlpr6rbB"
   },
   "outputs": [],
   "source": [
    "neuron = SimpleNeuron(n_in=2)"
   ]
  },
  {
   "cell_type": "code",
   "execution_count": 14,
   "metadata": {
    "colab": {},
    "colab_type": "code",
    "id": "wTwHY-Xy6rbG"
   },
   "outputs": [],
   "source": [
    "neuron.set_weights(np.array([1, 1]), -1.5)"
   ]
  },
  {
   "cell_type": "code",
   "execution_count": 15,
   "metadata": {
    "colab": {},
    "colab_type": "code",
    "id": "a0AasLSD6rbK"
   },
   "outputs": [],
   "source": [
    "assert neuron(np.array([0, 0])) == 0\n",
    "assert neuron(np.array([0, 1])) == 0\n",
    "assert neuron(np.array([1, 0])) == 0\n",
    "assert neuron(np.array([1, 1])) == 1"
   ]
  },
  {
   "cell_type": "markdown",
   "metadata": {
    "colab_type": "text",
    "id": "jpeuv9A06rbN"
   },
   "source": [
    "### Nor"
   ]
  },
  {
   "cell_type": "code",
   "execution_count": 16,
   "metadata": {
    "colab": {},
    "colab_type": "code",
    "id": "zRmF_OE36rbO"
   },
   "outputs": [],
   "source": [
    "neuron = SimpleNeuron(n_in=2)"
   ]
  },
  {
   "cell_type": "code",
   "execution_count": 21,
   "metadata": {
    "colab": {},
    "colab_type": "code",
    "id": "zbKsJL766rbR"
   },
   "outputs": [],
   "source": [
    "neuron.set_weights(np.array([-1, -1]), 0)"
   ]
  },
  {
   "cell_type": "code",
   "execution_count": 22,
   "metadata": {
    "colab": {},
    "colab_type": "code",
    "id": "EyqYPfHK6rbV"
   },
   "outputs": [],
   "source": [
    "assert neuron(np.array([0, 0])) == 1\n",
    "assert neuron(np.array([0, 1])) == 0\n",
    "assert neuron(np.array([1, 0])) == 0\n",
    "assert neuron(np.array([1, 1])) == 0"
   ]
  },
  {
   "cell_type": "markdown",
   "metadata": {},
   "source": [
    "### NAND"
   ]
  },
  {
   "cell_type": "code",
   "execution_count": 31,
   "metadata": {},
   "outputs": [],
   "source": [
    "neuron = SimpleNeuron(n_in=2)"
   ]
  },
  {
   "cell_type": "code",
   "execution_count": 32,
   "metadata": {},
   "outputs": [],
   "source": [
    "neuron.set_weights(np.array([-1, -1]), 1)"
   ]
  },
  {
   "cell_type": "code",
   "execution_count": 33,
   "metadata": {},
   "outputs": [],
   "source": [
    "assert neuron(np.array([0, 0])) == 1\n",
    "assert neuron(np.array([0, 1])) == 1\n",
    "assert neuron(np.array([1, 0])) == 1\n",
    "assert neuron(np.array([1, 1])) == 0"
   ]
  },
  {
   "cell_type": "markdown",
   "metadata": {
    "colab_type": "text",
    "id": "YPnLe0mY6rbZ"
   },
   "source": [
    "### Implication "
   ]
  },
  {
   "cell_type": "code",
   "execution_count": 23,
   "metadata": {
    "colab": {},
    "colab_type": "code",
    "id": "uBsK0ojJ6rbZ"
   },
   "outputs": [],
   "source": [
    "neuron = SimpleNeuron(n_in=2)"
   ]
  },
  {
   "cell_type": "code",
   "execution_count": 24,
   "metadata": {
    "colab": {},
    "colab_type": "code",
    "id": "gJ_NuFqC6rbc"
   },
   "outputs": [],
   "source": [
    "neuron.set_weights(np.array([-1, 2]), 0)"
   ]
  },
  {
   "cell_type": "code",
   "execution_count": 25,
   "metadata": {
    "colab": {},
    "colab_type": "code",
    "id": "BW-mJQ626rbg"
   },
   "outputs": [],
   "source": [
    "assert neuron(np.array([0, 0])) == 1\n",
    "assert neuron(np.array([0, 1])) == 1\n",
    "assert neuron(np.array([1, 0])) == 0\n",
    "assert neuron(np.array([1, 1])) == 1"
   ]
  },
  {
   "cell_type": "markdown",
   "metadata": {
    "colab_type": "text",
    "id": "HcFArxFT6rbj"
   },
   "source": [
    "### Xor"
   ]
  },
  {
   "cell_type": "markdown",
   "metadata": {
    "colab_type": "text",
    "id": "_y80Nei86rbk"
   },
   "source": [
    "Можно ли реализовать xor одним нейроном? Двумя? Объясните почему?"
   ]
  },
  {
   "cell_type": "markdown",
   "metadata": {},
   "source": [
    "__Proof.__\n",
    "We need to solve the next system of inequalities for 1 neuron:\n",
    "$$\n",
    "\\begin{cases}\n",
    "c < 0, \\\\\n",
    "b + c \\geqslant 0, \\\\\n",
    "a + c \\geqslant 0, \\\\\n",
    "a + b + c < 0.\n",
    "\\end{cases}\n",
    "$$\n",
    "Solving this system we obtain that $0 \\leqslant a + c + b + c < c < 0.$ This is a contradiction! "
   ]
  },
  {
   "cell_type": "code",
   "execution_count": 34,
   "metadata": {
    "colab": {},
    "colab_type": "code",
    "id": "-vF4G8zf6rbl"
   },
   "outputs": [],
   "source": [
    "class XorNet:\n",
    "    def __init__(self):\n",
    "        self.neuron_1 = SimpleNeuron(n_in=2)\n",
    "        self.neuron_2 = SimpleNeuron(n_in=2)\n",
    "        self.neuron_3 = SimpleNeuron(n_in=2)\n",
    "\n",
    "    def __call__(self, x):\n",
    "        return self.neuron_3(np.array([self.neuron_1(x), self.neuron_2(x)]))"
   ]
  },
  {
   "cell_type": "code",
   "execution_count": 35,
   "metadata": {
    "colab": {},
    "colab_type": "code",
    "id": "X1HFB8lu8D0a"
   },
   "outputs": [],
   "source": [
    "xor = XorNet()"
   ]
  },
  {
   "cell_type": "code",
   "execution_count": 36,
   "metadata": {
    "colab": {},
    "colab_type": "code",
    "id": "Ba_w7KpW6rbw"
   },
   "outputs": [],
   "source": [
    "xor.neuron_1.set_weights(np.array([1, 1]), -0.5)  # OR\n",
    "xor.neuron_2.set_weights(np.array([-1, -1]), 1)   # NAND\n",
    "xor.neuron_3.set_weights(np.array([1, 1]), -1.5) # AND"
   ]
  },
  {
   "cell_type": "code",
   "execution_count": 39,
   "metadata": {
    "colab": {},
    "colab_type": "code",
    "id": "mHBEUTU_6rbz"
   },
   "outputs": [],
   "source": [
    "assert xor(np.array([0, 0])) == 0\n",
    "assert xor(np.array([0, 1])) == 1\n",
    "assert xor(np.array([1, 0])) == 1\n",
    "assert xor(np.array([1, 1])) == 0"
   ]
  },
  {
   "cell_type": "markdown",
   "metadata": {
    "colab_type": "text",
    "id": "nbpk0hssPvNu"
   },
   "source": [
    "Предложите активацию, для которой **xor** реализуется одним нейроном?"
   ]
  },
  {
   "cell_type": "code",
   "execution_count": null,
   "metadata": {
    "colab": {},
    "colab_type": "code",
    "id": "-2r7q7MpQJSv"
   },
   "outputs": [],
   "source": [
    "# your code here"
   ]
  },
  {
   "cell_type": "markdown",
   "metadata": {
    "colab_type": "text",
    "id": "KumveDj1SkWP"
   },
   "source": [
    "## Универсальная теорема об аппроксимации. \n",
    "\n",
    "Теперь рассмотрим более общую задачу, аппроксимации не булевой функции. \n",
    "\n",
    "\n",
    "Пусть $\\varphi$  любая непрерывная сигмоидная функция, например, $\\varphi (\\xi )=1/(1+e^{-\\xi })$.\n",
    "\n",
    " Тогда, если дана любая непрерывная функция действительных переменных $f$ на $[0,1]^{n}$ (или любое другое компактное подмножество $\\mathbb {R} ^{n}$) и $\\varepsilon >0$, то существуют векторы \n",
    " $$\\mathbf {w_{1}} ,\\mathbf {w_{2}} ,\\dots ,\\mathbf {w_{N}} ,\\mathbf {\\alpha }, \\mathbf {\\theta } $$\n",
    " \n",
    "  и параметризованная функция \n",
    "  $$G(\\mathbf {\\cdot } ,\\mathbf {w} ,\\mathbf {\\alpha } ,\\mathbf {\\theta } ):[0,1]^{n}\\to R$$\n",
    "    такая, что для всех $\\mathbf {x} \\in [0,1]^{n}$ выполняется\n",
    "\n",
    "$$ {\\big |}G(\\mathbf {x} ,\\mathbf {w} ,\\mathbf {\\alpha } ,\\mathbf {\\theta } )-f(\\mathbf {x} ){\\big |}<\\varepsilon ,$$\n",
    "где\n",
    "\n",
    "$$ G(\\mathbf {x} ,\\mathbf {w} ,\\mathbf {\\alpha } ,\\mathbf {\\theta } )=\\sum _{i=1}^{N}\\alpha _{i}\\varphi (\\mathbf {w} _{i}^{T}\\mathbf {x} +\\theta _{i}), $$\n",
    "\n"
   ]
  },
  {
   "cell_type": "code",
   "execution_count": null,
   "metadata": {
    "colab": {},
    "colab_type": "code",
    "id": "zgLN-AUJSrcm"
   },
   "outputs": [],
   "source": []
  }
 ],
 "metadata": {
  "colab": {
   "name": "Xor problem.ipynb",
   "provenance": []
  },
  "kernelspec": {
   "display_name": "Python 3",
   "language": "python",
   "name": "python3"
  },
  "language_info": {
   "codemirror_mode": {
    "name": "ipython",
    "version": 3
   },
   "file_extension": ".py",
   "mimetype": "text/x-python",
   "name": "python",
   "nbconvert_exporter": "python",
   "pygments_lexer": "ipython3",
   "version": "3.7.8"
  }
 },
 "nbformat": 4,
 "nbformat_minor": 1
}
