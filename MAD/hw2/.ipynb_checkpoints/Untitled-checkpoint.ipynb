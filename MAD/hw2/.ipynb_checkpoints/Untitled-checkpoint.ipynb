{
 "cells": [
  {
   "cell_type": "markdown",
   "metadata": {},
   "source": [
    "# Task 2"
   ]
  },
  {
   "cell_type": "markdown",
   "metadata": {},
   "source": [
    "## Polynomially Weighted Average Forecaster"
   ]
  },
  {
   "cell_type": "markdown",
   "metadata": {},
   "source": [
    "Consider polynomial potential\n",
    "$$\n",
    "\\Phi_p(\\vec{u}) = \\left( \\sum \\limits_{i=1}^N (u_i)_+^p \\right)^{2/p}, ~ p \\geqslant 2,\n",
    "$$\n",
    "where $\\psi(x) = x^{2/p}, \\varphi(x) = x_+^p.$ Moreover\n",
    "$$\n",
    "\\psi^{\\prime}(x) = \\dfrac{2}{p} x^{(2 - p) / p}, \\\\\n",
    "\\varphi^{\\prime \\prime}(x) = p(p-1)x_+^{p-2}, \\\\\n",
    "\\Phi(\\vec{0}) = 0.\n",
    "$$\n",
    "We are going to use the next inequality \n",
    "$$\n",
    "\\Phi_p(\\vec{R}_n) \\leqslant \\Phi_p(\\vec{0}) + \\dfrac{1}{2} \\sum \\limits_{t=1}^n C(\\vec{r}_t)\n",
    "$$\n",
    "where\n",
    "$$\n",
    "C(\\vec{r}_t) = \\sup \\limits_{\\vec{u} \\in \\mathbb{R}^N} \\psi^{\\prime} \\left( \\sum \\limits_{i=1}^N \\varphi(u_i) \\right) \\sum \\limits_{i=1}^N \\varphi^{\\prime \\prime}(u_i) r_{i,t}^2.\n",
    "$$\n",
    "Using Holder's inequality \n",
    "$$\n",
    "\\sum \\limits_{i=1}^N \\varphi^{\\prime \\prime}(u_i) r_{i, t}^2 = p(p-1) \\sum \\limits_{i=1}^N (u_i)_+^{p-2} r_{i, t}^2 \\leqslant  p(p-1) \\left( \\sum \\limits_{i=1}^N \\left[ (u_i)_+^{p-2} \\right]^{p/(p-2)} \\right)^{(p-2)/p} \\left( \\sum \\limits_{i=1}^N |r_{i,t}|^p \\right)^{2/p}.\n",
    "$$\n",
    "Now we have\n",
    "$$\n",
    "\\psi^{\\prime} \\left( \\sum \\limits_{i=1}^N \\varphi(u_i) \\right) \\sum \\limits_{i=1}^N \\varphi^{\\prime \\prime}(u_i) r_{i,t}^2 \\leqslant 2(p-1) \\left( \\sum \\limits_{i=1}^N |r_{i,t}|^p \\right)^{2/p}, \\\\\n",
    "C(\\vec{r}_t) \\leqslant 2(p-1) \\Vert \\vec{r}_t \\Vert_p^2\n",
    "$$\n",
    "Finally, we get\n",
    "$$\n",
    "\\Phi_p(\\vec{R}_n) = \\left( \\sum \\limits_{i=1}^N (R_{i,n})_+^p \\right)^{2/p} \\leqslant (p-1) \\sum \\limits_{t=1}^n \\Vert \\vec{r}_t \\Vert_p^2.\n",
    "$$\n",
    "If we suppose that a loss funciton is bounded such that $0 \\leqslant \\mathcal{L}(x, y) \\leqslant 1$ then\n",
    "$$\n",
    "\\Phi_p(\\vec{R}_n) \\leqslant n(p-1)N^{2/p}.\n",
    "$$\n",
    "For $\\forall i = 1, \\ldots, N$ \n",
    "$$\n",
    "R_{i, n} \\leqslant \\left( \\sum \\limits_{i=1}^N (R_{i,n})_+^p \\right)^{1/p} \\leqslant \\sqrt{n(p-1)N^{2/p}},\n",
    "$$\n",
    "or equvalent\n",
    "$$\n",
    "\\max \\limits_{i = 1, \\ldots, N} R_{i,n} = \\hat{L}_n - \\min \\limits_{i = 1, \\ldots, N} L_{i, n} \\leqslant \\sqrt{n(p-1)N^{2/p}}.\n",
    "$$"
   ]
  },
  {
   "cell_type": "markdown",
   "metadata": {},
   "source": [
    "## Exponentially Weighted Average Forecaster"
   ]
  },
  {
   "cell_type": "markdown",
   "metadata": {},
   "source": [
    "Consider exponential potential\n",
    "$$\n",
    "\\Phi_{\\mu}(\\vec{u}) = \\dfrac{1}{\\mu} \\ln \\left( \\sum \\limits_{i=1}^N e^{\\mu u_i} \\right).\n",
    "$$\n",
    "In this case, the weigths assigned to the experts are \n",
    "$$\n",
    "w_{i, t-1} = \\dfrac{e^{\\mu R_{i, t-1}}}{\\sum \\limits_{j=1}^N e^{\\mu R_{j, t-1}}} = \\dfrac{e^{-\\mu L_{i, t-1}}}{\\sum \\limits_{j=1}^N e^{-\\mu L_{j, t-1}}}.\n",
    "$$\n",
    "Also we know\n",
    "$$\n",
    "\\hat{p}_t = \\dfrac{\\sum \\limits_{i=1}^N w_{i, t-1} f_{i,t}}{\\sum \\limits_{j=1}^N w_{j, t-1}} = \\dfrac{\\sum \\limits_{i=1}^N e^{-\\mu L_{i, t-1}} f_{i,t}}{\\sum \\limits_{j=1}^N e^{-\\mu L_{j,t-1}}} = \\sum \\limits_{i=1}^N w_{i, t-1} f_{i,t}.\n",
    "$$\n",
    "Denote $S_t = \\sum \\limits_{i=1}^N e^{-\\mu L_{i,t}}, S_0 = N.$ For $\\forall t = 1, \\ldots, n$ we have\n",
    "$$\n",
    "\\dfrac{S_t}{S_{t-1}} = \\dfrac{\\sum \\limits_{i=1}^N e^{-\\mu L_{i,t}}}{\\sum \\limits_{i=1}^N e^{-\\mu L_{i,t-1}}} = \\{ L_{i, t} = L_{i, t-1} + \\mathcal{L}(f_{i,t}, y_t) \\} = \\dfrac{\\sum \\limits_{i=1}^N e^{-\\mu L_{i,t-1}} e^{-\\mu \\mathcal{L}(f_{i,t}, y_t)}}{\\sum \\limits_{i=1}^N e^{-\\mu L_{i,t-1}}} = \\sum \\limits_{i=1}^N w_{i,t-1} e^{-\\mu \\mathcal{L}(f_{i,t}, y_t)}.\n",
    "$$\n",
    "Now we are going to use __Hoeffding inequality.__ Let $X$ be a random variable with $a \\leqslant X \\leqslant b.$ Then for any $s \\in \\mathbb{R}$\n",
    "$$\n",
    "\\mathbb{E}[e^{s(X - \\mathbb{E}[X])}] \\leqslant \\exp \\left( \\dfrac{s^2}{8}(b-a)^2 \\right).\n",
    "$$\n",
    "After applying Hoeffding inequality and using convexity of loss function $\\mathcal{L}$ in the first argument, we get \n",
    "$$\n",
    "\\ln \\dfrac{S_t}{S_{t-1}} = \\ln \\left(\\sum \\limits_{i=1}^N w_{i,t-1} e^{-\\mu \\mathcal{L}(f_{i,t}, y_t)} \\right) \\leqslant -\\mu \\sum \\limits_{i=1}^N w_{i,t-1} \\mathcal{L}(f_{i,t}, y_t) + \\dfrac{\\mu^2}{8} \\leqslant - \\mu \\mathcal{L} \\left(\\sum \\limits_{i=1}^N w_{i,t-1} f_{i,t} , y_t \\right) + \\dfrac{\\mu^2}{8} = - \\mu \\mathcal{L} \\left(\\hat{p}_t , y_t \\right) + \\dfrac{\\mu^2}{8}.\n",
    "$$\n",
    "Summing over $t = 1, \\ldots, n,$ from one hand we have\n",
    "$$\n",
    "\\ln \\dfrac{S_n}{S_{0}} \\leqslant - \\mu \\hat{L}_n + \\dfrac{\\mu^2 n}{8}.\n",
    "$$\n",
    "From the other hand\n",
    "$$\n",
    "\\ln \\dfrac{S_n}{S_{0}} = \\ln \\left( \\sum \\limits_{i=1}^N e^{-\\mu L_{i,n}} \\right) - \\ln(N) \\geqslant \\ln \\left( \\max \\limits_{i = 1, \\ldots, N} e^{-\\mu L_{i,n}} \\right) - \\ln(N) \\geqslant \\{ Jensen \\} \\geqslant \\max \\limits_{i = 1, \\ldots, N} ( -\\mu L_{i,n}) - \\ln(N) = - \\mu \\min \\limits_{i = 1, \\ldots, N} L_{i,n} - \\ln(N).\n",
    "$$\n",
    "Finally, we have \n",
    "$$\n",
    "\\max \\limits_{i = 1, \\ldots, N} R_{i, n} = \\hat{L}_n - \\min \\limits_{i = 1, \\ldots, N} L_{i, n} \\leqslant \\dfrac{\\ln N}{\\mu} + \\dfrac{\\mu n}{8}.\n",
    "$$"
   ]
  }
 ],
 "metadata": {
  "kernelspec": {
   "display_name": "Python 3",
   "language": "python",
   "name": "python3"
  },
  "language_info": {
   "codemirror_mode": {
    "name": "ipython",
    "version": 3
   },
   "file_extension": ".py",
   "mimetype": "text/x-python",
   "name": "python",
   "nbconvert_exporter": "python",
   "pygments_lexer": "ipython3",
   "version": "3.7.4"
  }
 },
 "nbformat": 4,
 "nbformat_minor": 2
}
